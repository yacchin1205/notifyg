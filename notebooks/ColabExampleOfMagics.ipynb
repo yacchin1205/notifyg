{
  "nbformat": 4,
  "nbformat_minor": 0,
  "metadata": {
    "kernelspec": {
      "display_name": "Python 3",
      "language": "python",
      "name": "python3"
    },
    "language_info": {
      "codemirror_mode": {
        "name": "ipython",
        "version": 3
      },
      "file_extension": ".py",
      "mimetype": "text/x-python",
      "name": "python",
      "nbconvert_exporter": "python",
      "pygments_lexer": "ipython3",
      "version": "3.7.8"
    },
    "colab": {
      "name": "ExampleOfMagics.ipynb のコピー",
      "provenance": [],
      "collapsed_sections": []
    }
  },
  "cells": [
    {
      "cell_type": "code",
      "metadata": {
        "id": "hUP0_7tLXW0a",
        "colab": {
          "base_uri": "https://localhost:8080/"
        },
        "outputId": "366d8d01-1f17-49c1-f3cb-cf92cbbd589d"
      },
      "source": [
        "!pip install --upgrade git+https://github.com/yacchin1205/notifyg.git"
      ],
      "execution_count": null,
      "outputs": [
        {
          "output_type": "stream",
          "text": [
            "Collecting git+https://github.com/yacchin1205/notifyg.git#main\n",
            "  Cloning https://github.com/yacchin1205/notifyg.git to /tmp/pip-req-build-0a0w6qsx\n",
            "  Running command git clone -q https://github.com/yacchin1205/notifyg.git /tmp/pip-req-build-0a0w6qsx\n",
            "Requirement already satisfied, skipping upgrade: requests in /usr/local/lib/python3.6/dist-packages (from notifyg-yacchin1205==0.0.2) (2.23.0)\n",
            "Requirement already satisfied, skipping upgrade: six in /usr/local/lib/python3.6/dist-packages (from notifyg-yacchin1205==0.0.2) (1.15.0)\n",
            "Requirement already satisfied, skipping upgrade: qrcode in /usr/local/lib/python3.6/dist-packages (from notifyg-yacchin1205==0.0.2) (6.1)\n",
            "Requirement already satisfied, skipping upgrade: Pillow in /usr/local/lib/python3.6/dist-packages (from notifyg-yacchin1205==0.0.2) (7.0.0)\n",
            "Requirement already satisfied, skipping upgrade: python-magic in /usr/local/lib/python3.6/dist-packages (from notifyg-yacchin1205==0.0.2) (0.4.18)\n",
            "Requirement already satisfied, skipping upgrade: idna<3,>=2.5 in /usr/local/lib/python3.6/dist-packages (from requests->notifyg-yacchin1205==0.0.2) (2.10)\n",
            "Requirement already satisfied, skipping upgrade: certifi>=2017.4.17 in /usr/local/lib/python3.6/dist-packages (from requests->notifyg-yacchin1205==0.0.2) (2020.12.5)\n",
            "Requirement already satisfied, skipping upgrade: urllib3!=1.25.0,!=1.25.1,<1.26,>=1.21.1 in /usr/local/lib/python3.6/dist-packages (from requests->notifyg-yacchin1205==0.0.2) (1.24.3)\n",
            "Requirement already satisfied, skipping upgrade: chardet<4,>=3.0.2 in /usr/local/lib/python3.6/dist-packages (from requests->notifyg-yacchin1205==0.0.2) (3.0.4)\n",
            "Building wheels for collected packages: notifyg-yacchin1205\n",
            "  Building wheel for notifyg-yacchin1205 (setup.py) ... \u001b[?25l\u001b[?25hdone\n",
            "  Created wheel for notifyg-yacchin1205: filename=notifyg_yacchin1205-0.0.2-cp36-none-any.whl size=10304 sha256=349076bf6847b8add9d2486d3ccc4bddf3a9a88398541233e4d2832ec6283a25\n",
            "  Stored in directory: /tmp/pip-ephem-wheel-cache-tm9abk8p/wheels/28/e1/75/f15d003ad7f2b20cd36775b4f373d64e92a7ff1b8bcca46163\n",
            "Successfully built notifyg-yacchin1205\n",
            "Installing collected packages: notifyg-yacchin1205\n",
            "  Found existing installation: notifyg-yacchin1205 0.0.2\n",
            "    Uninstalling notifyg-yacchin1205-0.0.2:\n",
            "      Successfully uninstalled notifyg-yacchin1205-0.0.2\n",
            "Successfully installed notifyg-yacchin1205-0.0.2\n"
          ],
          "name": "stdout"
        }
      ]
    },
    {
      "cell_type": "code",
      "metadata": {
        "id": "D4a71-luXSFo"
      },
      "source": [
        "%load_ext notifyg.magics"
      ],
      "execution_count": null,
      "outputs": []
    },
    {
      "cell_type": "code",
      "metadata": {
        "id": "N8oM6fsCXSFw",
        "colab": {
          "base_uri": "https://localhost:8080/",
          "height": 421
        },
        "outputId": "48015efd-8437-48a1-9c72-6d705bde53dd"
      },
      "source": [
        "%notifyg_init"
      ],
      "execution_count": null,
      "outputs": [
        {
          "output_type": "stream",
          "text": [
            "Open the following link to configure this notification channel.\n",
            "https://notify.guru/r/gQelfbp2OIZAvUrzvdge\n"
          ],
          "name": "stdout"
        },
        {
          "output_type": "execute_result",
          "data": {
            "image/png": "[encoded data removed]",
            "text/plain": [
              "<qrcode.image.pil.PilImage at 0x7fb66ba17fd0>"
            ]
          },
          "metadata": {
            "tags": []
          },
          "execution_count": 3
        }
      ]
    },
    {
      "cell_type": "code",
      "metadata": {
        "id": "F-ZODaURXSFy",
        "colab": {
          "base_uri": "https://localhost:8080/",
          "height": 35
        },
        "outputId": "9b494a0d-dbf6-4f37-bae1-1ff805cd2159"
      },
      "source": [
        "from datetime import datetime\n",
        "%notifyg str(datetime.now())"
      ],
      "execution_count": null,
      "outputs": [
        {
          "output_type": "execute_result",
          "data": {
            "application/vnd.google.colaboratory.intrinsic+json": {
              "type": "string"
            },
            "text/plain": [
              "'2021-01-15 09:39:04.578272'"
            ]
          },
          "metadata": {
            "tags": []
          },
          "execution_count": 4
        }
      ]
    },
    {
      "cell_type": "code",
      "metadata": {
        "id": "AByM4gpTXSFz"
      },
      "source": [
        "import time\n",
        "import matplotlib.pyplot as plt\n",
        "import numpy as np\n",
        "from IPython.display import Image"
      ],
      "execution_count": null,
      "outputs": []
    },
    {
      "cell_type": "code",
      "metadata": {
        "scrolled": true,
        "id": "tpx0NshYXSF0",
        "colab": {
          "base_uri": "https://localhost:8080/",
          "height": 553
        },
        "outputId": "1113a224-1e4b-4821-9abb-316955c807b1"
      },
      "source": [
        "%%notifyg\n",
        "time.sleep(10)\n",
        "\n",
        "x = np.linspace(0, 10, 100)\n",
        "y  = np.sin(x)\n",
        "plt.plot(x, y)\n",
        "plt.savefig('test.png')\n",
        "Image(filename='test.png')"
      ],
      "execution_count": null,
      "outputs": [
        {
          "output_type": "execute_result",
          "data": {
            "image/png": "[encoded data removed]",
            "text/plain": [
              "<IPython.core.display.Image object>"
            ]
          },
          "metadata": {
            "tags": []
          },
          "execution_count": 8
        },
        {
          "output_type": "display_data",
          "data": {
            "image/png": "[encoded data removed]",
            "text/plain": [
              "<Figure size 432x288 with 1 Axes>"
            ]
          },
          "metadata": {
            "tags": [],
            "needs_background": "light"
          }
        }
      ]
    },
    {
      "cell_type": "code",
      "metadata": {
        "id": "tswu0XGFXSF0",
        "colab": {
          "base_uri": "https://localhost:8080/"
        },
        "outputId": "5885d423-03e3-4877-cfa7-c1740df2209d"
      },
      "source": [
        "%%notifyg\n",
        "test"
      ],
      "execution_count": null,
      "outputs": [
        {
          "output_type": "stream",
          "text": [
            "Traceback (most recent call last):\n",
            "  File \"/usr/local/lib/python3.6/dist-packages/notifyg/magics.py\", line 51, in notifyg\n",
            "    cellresult = eval(self.shell.compile(eval_expr_ast, source, 'eval'), self.shell.user_ns, local_ns)\n",
            "  File \"<notifyg>\", line 1, in <module>\n",
            "NameError: name 'test' is not defined\n",
            "\n"
          ],
          "name": "stderr"
        }
      ]
    },
    {
      "cell_type": "code",
      "metadata": {
        "id": "yj6tF1NdXSF0"
      },
      "source": [
        ""
      ],
      "execution_count": null,
      "outputs": []
    }
  ]
}